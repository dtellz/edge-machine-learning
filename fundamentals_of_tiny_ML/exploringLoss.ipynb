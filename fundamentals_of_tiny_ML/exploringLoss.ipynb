{
 "cells": [
  {
   "cell_type": "code",
   "execution_count": null,
   "metadata": {},
   "outputs": [
    {
     "ename": "",
     "evalue": "",
     "output_type": "error",
     "traceback": [
      "\u001b[1;31mRunning cells with '/usr/bin/python3' requires the ipykernel package.\n",
      "\u001b[1;31mRun the following command to install 'ipykernel' into the Python environment. \n",
      "\u001b[1;31mCommand: '/usr/bin/python3 -m pip install ipykernel -U --user --force-reinstall'"
     ]
    }
   ],
   "source": [
    "import math\n",
    "# Edit these parameters to try different loss\n",
    "# measurements. Rerun this cell when done\n",
    "# Your Y will be calculated as Y=wX+b, so\n",
    "# if w=3, and b=-1, then Y=3x-1\n",
    "\n",
    "w = 4\n",
    "b = -1\n",
    "\n",
    "x = [-1, 0, 1, 2, 3, 4]\n",
    "y = [-3, -1, 1, 3, 5, 7]\n",
    "myY = []\n",
    "\n",
    "\n",
    "for thisX in x:\n",
    "  thisY = (w*thisX)+b\n",
    "  myY.append(thisY)\n",
    "\n",
    "print(\"Real Y is \" + str(y))\n",
    "print(\"My Y is   \" + str(myY))\n",
    "\n",
    "# let's calculate the loss\n",
    "total_square_error = 0\n",
    "for i in range(0, len(y)):\n",
    "  square_error = (y[i] - myY[i]) ** 2\n",
    "  total_square_error += square_error\n",
    "\n",
    "print(\"My loss is: \" + str(math.sqrt(total_square_error)))"
   ]
  }
 ],
 "metadata": {
  "kernelspec": {
   "display_name": "Python 3",
   "language": "python",
   "name": "python3"
  },
  "language_info": {
   "name": "python",
   "version": "3.9.6"
  },
  "orig_nbformat": 4,
  "vscode": {
   "interpreter": {
    "hash": "31f2aee4e71d21fbe5cf8b01ff0e069b9275f58929596ceb00d14d90e3e16cd6"
   }
  }
 },
 "nbformat": 4,
 "nbformat_minor": 2
}
