{
  "cells": [
    {
      "cell_type": "markdown",
      "metadata": {
        "id": "ktqTCGHJw-ws"
      },
      "source": [
        "# Bean Disease Classifier\n",
        "For this assignment you'll take what you've learned so far and build a classifier for bean disease. You'll be provided with training and validation data based on 224x224 pixel color images taken of bean plants in Uganda. These images show healthy bean leaves as well as 2 types of common disease: bean rust and angular leaf spots. Your job will be to build a neural network that can tell the difference between the healthy and diseased leaves.\n",
        "\n",
        "We start by setting up the problem for you."
      ]
    },
    {
      "cell_type": "code",
      "execution_count": 1,
      "metadata": {
        "colab": {
          "base_uri": "https://localhost:8080/"
        },
        "id": "wmnkg6vGbX1t",
        "outputId": "cdad2408-f586-46a1-9d27-2c51e2f33f98"
      },
      "outputs": [
        {
          "name": "stdout",
          "output_type": "stream",
          "text": [
            "Colab only includes TensorFlow 2.x; %tensorflow_version has no effect.\n"
          ]
        }
      ],
      "source": [
        "# Do not change this code\n",
        "try:\n",
        "  # %tensorflow_version only exists in Colab.\n",
        "  %tensorflow_version 2.x\n",
        "except Exception:\n",
        "  pass"
      ]
    },
    {
      "cell_type": "code",
      "execution_count": 2,
      "metadata": {
        "colab": {
          "base_uri": "https://localhost:8080/"
        },
        "id": "lRV-f1DSwwiC",
        "outputId": "6c2db57f-2ea5-4f9f-9c15-6a52a4569163"
      },
      "outputs": [
        {
          "name": "stdout",
          "output_type": "stream",
          "text": [
            "Looking in indexes: https://pypi.org/simple, https://us-python.pkg.dev/colab-wheels/public/simple/\n",
            "Requirement already satisfied: gdown in /usr/local/lib/python3.8/dist-packages (4.4.0)\n",
            "Collecting gdown\n",
            "  Downloading gdown-4.6.4-py3-none-any.whl (14 kB)\n",
            "Requirement already satisfied: tqdm in /usr/local/lib/python3.8/dist-packages (from gdown) (4.64.1)\n",
            "Requirement already satisfied: requests[socks] in /usr/local/lib/python3.8/dist-packages (from gdown) (2.25.1)\n",
            "Requirement already satisfied: six in /usr/local/lib/python3.8/dist-packages (from gdown) (1.15.0)\n",
            "Requirement already satisfied: filelock in /usr/local/lib/python3.8/dist-packages (from gdown) (3.9.0)\n",
            "Requirement already satisfied: beautifulsoup4 in /usr/local/lib/python3.8/dist-packages (from gdown) (4.6.3)\n",
            "Requirement already satisfied: urllib3<1.27,>=1.21.1 in /usr/local/lib/python3.8/dist-packages (from requests[socks]->gdown) (1.26.14)\n",
            "Requirement already satisfied: certifi>=2017.4.17 in /usr/local/lib/python3.8/dist-packages (from requests[socks]->gdown) (2022.12.7)\n",
            "Requirement already satisfied: chardet<5,>=3.0.2 in /usr/local/lib/python3.8/dist-packages (from requests[socks]->gdown) (4.0.0)\n",
            "Requirement already satisfied: idna<3,>=2.5 in /usr/local/lib/python3.8/dist-packages (from requests[socks]->gdown) (2.10)\n",
            "Requirement already satisfied: PySocks!=1.5.7,>=1.5.6 in /usr/local/lib/python3.8/dist-packages (from requests[socks]->gdown) (1.7.1)\n",
            "Installing collected packages: gdown\n",
            "  Attempting uninstall: gdown\n",
            "    Found existing installation: gdown 4.4.0\n",
            "    Uninstalling gdown-4.4.0:\n",
            "      Successfully uninstalled gdown-4.4.0\n",
            "Successfully installed gdown-4.6.4\n"
          ]
        }
      ],
      "source": [
        "# Do not change this code\n",
        "!pip install --upgrade --no-cache-dir gdown"
      ]
    },
    {
      "cell_type": "code",
      "execution_count": 3,
      "metadata": {
        "colab": {
          "base_uri": "https://localhost:8080/"
        },
        "id": "njf4YhwFb6hW",
        "outputId": "ee06ab0f-5d10-4321-b9bf-24d760ba8ba5"
      },
      "outputs": [
        {
          "name": "stdout",
          "output_type": "stream",
          "text": [
            "Downloading...\n",
            "From: https://drive.google.com/uc?export=download&id=1jSiS-2Wy0AaOg7F7trgAG-KtnVGm2oTb\n",
            "To: /tmp/train.zip\n",
            "100% 144M/144M [00:04<00:00, 30.1MB/s]\n",
            "Downloading...\n",
            "From: https://drive.google.com/uc?export=download&id=17zP0BYyYBqCgSpYqXjYhikjBVpkxmq8k\n",
            "To: /tmp/validation.zip\n",
            "100% 18.5M/18.5M [00:01<00:00, 18.2MB/s]\n",
            "Downloading...\n",
            "From: https://drive.google.com/uc?export=download&id=17TzNBWdjWGgVRyy7cHMzFWrOXvIhRz6m\n",
            "To: /tmp/test.zip\n",
            "100% 17.7M/17.7M [00:00<00:00, 28.4MB/s]\n"
          ]
        }
      ],
      "source": [
        "# Do not change this code\n",
        "!gdown \"https://drive.google.com/uc?export=download&id=1jSiS-2Wy0AaOg7F7trgAG-KtnVGm2oTb\" -O /tmp/train.zip\n",
        "!gdown \"https://drive.google.com/uc?export=download&id=17zP0BYyYBqCgSpYqXjYhikjBVpkxmq8k\" -O /tmp/validation.zip\n",
        "!gdown \"https://drive.google.com/uc?export=download&id=17TzNBWdjWGgVRyy7cHMzFWrOXvIhRz6m\" -O /tmp/test.zip"
      ]
    },
    {
      "cell_type": "code",
      "execution_count": 4,
      "metadata": {
        "id": "KscpTrSWcK1T"
      },
      "outputs": [],
      "source": [
        "# Do not change this code\n",
        "import os\n",
        "import zipfile\n",
        "\n",
        "local_zip = '/tmp/train.zip'\n",
        "zip_ref = zipfile.ZipFile(local_zip, 'r')\n",
        "zip_ref.extractall('/tmp')\n",
        "local_zip = '/tmp/validation.zip'\n",
        "zip_ref = zipfile.ZipFile(local_zip, 'r')\n",
        "zip_ref.extractall('/tmp')\n",
        "local_zip = '/tmp/test.zip'\n",
        "zip_ref = zipfile.ZipFile(local_zip, 'r')\n",
        "zip_ref.extractall('/tmp/test')\n",
        "zip_ref.close()"
      ]
    },
    {
      "cell_type": "markdown",
      "metadata": {
        "id": "5R0WEYIitNwI"
      },
      "source": [
        "Now you need to define a generator to process the data we have loaded in Colab so that our model can use it for training. As we showed in the previous video you'll first have to define an ```ImageDataGenerator``` and then flow the data into it.\n",
        "\n",
        "*A hint: You don't want abnormal data!*"
      ]
    },
    {
      "cell_type": "code",
      "execution_count": 38,
      "metadata": {
        "colab": {
          "base_uri": "https://localhost:8080/"
        },
        "id": "jCiSd248caB4",
        "outputId": "420221ec-5811-4df5-9ec0-9b77417287b4"
      },
      "outputs": [
        {
          "name": "stdout",
          "output_type": "stream",
          "text": [
            "Found 1034 images belonging to 3 classes.\n",
            "Found 133 images belonging to 3 classes.\n"
          ]
        }
      ],
      "source": [
        "from tensorflow.keras.preprocessing.image import ImageDataGenerator\n",
        "\n",
        "train_datagen = ImageDataGenerator(\n",
        "      rescale=1./255\n",
        ")\n",
        "\n",
        "validation_datagen = ImageDataGenerator(\n",
        "      rescale=1./255\n",
        ")\n",
        "\n",
        "TRAIN_DIRECTORY_LOCATION = '/tmp/train' # YOUR CODE HERE #\n",
        "VAL_DIRECTORY_LOCATION = '/tmp/validation' # YOUR CODE HERE #\n",
        "TARGET_SIZE = (100, 100) # YOUR CODE HERE #\n",
        "CLASS_MODE = 'categorical' # YOUR CODE HERE #\n",
        "\n",
        "train_generator = train_datagen.flow_from_directory(\n",
        "    TRAIN_DIRECTORY_LOCATION,\n",
        "    target_size = TARGET_SIZE,  \n",
        "    batch_size = 128,\n",
        "    class_mode = CLASS_MODE\n",
        ")\n",
        "\n",
        "validation_generator = validation_datagen.flow_from_directory(\n",
        "    VAL_DIRECTORY_LOCATION,\n",
        "    target_size = TARGET_SIZE,  \n",
        "    batch_size = 128,\n",
        "    class_mode = CLASS_MODE\n",
        ")"
      ]
    },
    {
      "cell_type": "markdown",
      "metadata": {
        "id": "rjpkGy4RtNwJ"
      },
      "source": [
        "Now its your turn to define a model to learn this data. \n",
        "\n",
        "*A hint: Like with the CIFAR-10 assignment, your model may want to learn some high level features and then classify them. This time it may help to make the model a little wider at times.*"
      ]
    },
    {
      "cell_type": "code",
      "execution_count": 39,
      "metadata": {
        "colab": {
          "base_uri": "https://localhost:8080/"
        },
        "id": "vrJt6YSDcqjX",
        "outputId": "13df25db-030c-4215-976d-1a572f84d42c"
      },
      "outputs": [
        {
          "name": "stdout",
          "output_type": "stream",
          "text": [
            "Model: \"sequential_9\"\n",
            "_________________________________________________________________\n",
            " Layer (type)                Output Shape              Param #   \n",
            "=================================================================\n",
            " conv2d_51 (Conv2D)          (None, 98, 98, 32)        896       \n",
            "                                                                 \n",
            " max_pooling2d_51 (MaxPoolin  (None, 49, 49, 32)       0         \n",
            " g2D)                                                            \n",
            "                                                                 \n",
            " conv2d_52 (Conv2D)          (None, 47, 47, 64)        18496     \n",
            "                                                                 \n",
            " max_pooling2d_52 (MaxPoolin  (None, 23, 23, 64)       0         \n",
            " g2D)                                                            \n",
            "                                                                 \n",
            " conv2d_53 (Conv2D)          (None, 21, 21, 128)       73856     \n",
            "                                                                 \n",
            " max_pooling2d_53 (MaxPoolin  (None, 10, 10, 128)      0         \n",
            " g2D)                                                            \n",
            "                                                                 \n",
            " conv2d_54 (Conv2D)          (None, 8, 8, 64)          73792     \n",
            "                                                                 \n",
            " max_pooling2d_54 (MaxPoolin  (None, 4, 4, 64)         0         \n",
            " g2D)                                                            \n",
            "                                                                 \n",
            " flatten_9 (Flatten)         (None, 1024)              0         \n",
            "                                                                 \n",
            " dense_27 (Dense)            (None, 32)                32800     \n",
            "                                                                 \n",
            " dense_28 (Dense)            (None, 3)                 99        \n",
            "                                                                 \n",
            "=================================================================\n",
            "Total params: 199,939\n",
            "Trainable params: 199,939\n",
            "Non-trainable params: 0\n",
            "_________________________________________________________________\n"
          ]
        }
      ],
      "source": [
        "import tensorflow as tf\n",
        "\n",
        "layers = tf.keras.layers;\n",
        "model = tf.keras.models.Sequential([\n",
        "    layers.Conv2D(32, (3, 3), activation='relu', input_shape=(100, 100, 3)),\n",
        "    layers.MaxPooling2D(2, 2),\n",
        "    layers.Conv2D(64, (3, 3), activation='relu'),\n",
        "    layers.MaxPooling2D(2, 2),\n",
        "    layers.Conv2D(128, (3, 3), activation='relu'),\n",
        "    layers.MaxPooling2D(2, 2),\n",
        "    layers.Conv2D(64, (3, 3), activation='relu'),\n",
        "    layers.MaxPooling2D(2, 2),\n",
        "    layers.Flatten(),\n",
        "    layers.Dense(32, activation='relu'),\n",
        "    layers.Dense(3, activation='softmax')\n",
        "])\n",
        "\n",
        "# This will print a summary of your model when you're done!\n",
        "model.summary()"
      ]
    },
    {
      "cell_type": "markdown",
      "metadata": {
        "id": "O6UOV_PztNwK"
      },
      "source": [
        "Then you'll need to pick an appropriate loss function and optimizer.\n",
        "\n",
        "*A hint: remember we are classifying again.*"
      ]
    },
    {
      "cell_type": "code",
      "execution_count": 40,
      "metadata": {
        "id": "nST6CyvCcy-2"
      },
      "outputs": [],
      "source": [
        "LOSS_FUNCTION = 'categorical_crossentropy' #YOUR CODE HERE#\n",
        "OPTIMIZER = 'adam' #YOUR CODE HERE#\n",
        "\n",
        "model.compile(\n",
        "    loss = LOSS_FUNCTION,\n",
        "    optimizer = OPTIMIZER,\n",
        "    metrics = ['accuracy']\n",
        ")"
      ]
    },
    {
      "cell_type": "markdown",
      "metadata": {
        "id": "0EDyhXfgtNwL"
      },
      "source": [
        "Finally select the number of epochs you'd like to train for and train your model!\n",
        "\n",
        "*A hint: something in the low tens is a good place to start*"
      ]
    },
    {
      "cell_type": "code",
      "execution_count": 41,
      "metadata": {
        "colab": {
          "base_uri": "https://localhost:8080/",
          "height": 989
        },
        "id": "Q3iK9LX9deu2",
        "outputId": "2d013be8-dbc7-4023-b59d-f563b48729da"
      },
      "outputs": [
        {
          "name": "stdout",
          "output_type": "stream",
          "text": [
            "Epoch 1/20\n",
            "9/9 [==============================] - 10s 833ms/step - loss: 1.0949 - accuracy: 0.3956 - val_loss: 1.0578 - val_accuracy: 0.3910\n",
            "Epoch 2/20\n",
            "9/9 [==============================] - 7s 739ms/step - loss: 0.9885 - accuracy: 0.4981 - val_loss: 0.8744 - val_accuracy: 0.5865\n",
            "Epoch 3/20\n",
            "9/9 [==============================] - 7s 839ms/step - loss: 0.9452 - accuracy: 0.5754 - val_loss: 0.8752 - val_accuracy: 0.5940\n",
            "Epoch 4/20\n",
            "9/9 [==============================] - 8s 868ms/step - loss: 0.8910 - accuracy: 0.6277 - val_loss: 0.8743 - val_accuracy: 0.5940\n",
            "Epoch 5/20\n",
            "9/9 [==============================] - 8s 806ms/step - loss: 0.8347 - accuracy: 0.6228 - val_loss: 0.7729 - val_accuracy: 0.6992\n",
            "Epoch 6/20\n",
            "9/9 [==============================] - 8s 863ms/step - loss: 0.8011 - accuracy: 0.6634 - val_loss: 0.8046 - val_accuracy: 0.5639\n",
            "Epoch 7/20\n",
            "9/9 [==============================] - 7s 754ms/step - loss: 0.7434 - accuracy: 0.6760 - val_loss: 0.6673 - val_accuracy: 0.7444\n",
            "Epoch 8/20\n",
            "9/9 [==============================] - 8s 861ms/step - loss: 0.7457 - accuracy: 0.6779 - val_loss: 0.6814 - val_accuracy: 0.6391\n",
            "Epoch 9/20\n",
            "9/9 [==============================] - 7s 747ms/step - loss: 0.7433 - accuracy: 0.6625 - val_loss: 0.7207 - val_accuracy: 0.7068\n",
            "Epoch 10/20\n",
            "9/9 [==============================] - 8s 867ms/step - loss: 0.6975 - accuracy: 0.6779 - val_loss: 0.6196 - val_accuracy: 0.7444\n",
            "Epoch 11/20\n",
            "9/9 [==============================] - 9s 976ms/step - loss: 0.6597 - accuracy: 0.7147 - val_loss: 0.6976 - val_accuracy: 0.6992\n",
            "Epoch 12/20\n",
            "9/9 [==============================] - 7s 747ms/step - loss: 0.6143 - accuracy: 0.7427 - val_loss: 0.5728 - val_accuracy: 0.7970\n",
            "Epoch 13/20\n",
            "9/9 [==============================] - 7s 748ms/step - loss: 0.5990 - accuracy: 0.7427 - val_loss: 0.5721 - val_accuracy: 0.7368\n",
            "Epoch 14/20\n",
            "9/9 [==============================] - 8s 862ms/step - loss: 0.6370 - accuracy: 0.6963 - val_loss: 0.6302 - val_accuracy: 0.7143\n",
            "Epoch 15/20\n",
            "9/9 [==============================] - 7s 745ms/step - loss: 0.5867 - accuracy: 0.7495 - val_loss: 0.5344 - val_accuracy: 0.7368\n",
            "Epoch 16/20\n",
            "9/9 [==============================] - 8s 952ms/step - loss: 0.5522 - accuracy: 0.7660 - val_loss: 0.5543 - val_accuracy: 0.7970\n",
            "Epoch 17/20\n",
            "9/9 [==============================] - 7s 756ms/step - loss: 0.5342 - accuracy: 0.7766 - val_loss: 0.6366 - val_accuracy: 0.7669\n",
            "Epoch 18/20\n",
            "9/9 [==============================] - 8s 797ms/step - loss: 0.5331 - accuracy: 0.7805 - val_loss: 0.5108 - val_accuracy: 0.7744\n",
            "Epoch 19/20\n",
            "9/9 [==============================] - 8s 848ms/step - loss: 0.5086 - accuracy: 0.7776 - val_loss: 0.4990 - val_accuracy: 0.8195\n",
            "Epoch 20/20\n",
            "9/9 [==============================] - 7s 753ms/step - loss: 0.5449 - accuracy: 0.7602 - val_loss: 0.5612 - val_accuracy: 0.7444\n"
          ]
        },
        {
          "data": {
            "image/png": "[encoded data removed]",
            "text/plain": [
              "<Figure size 432x288 with 1 Axes>"
            ]
          },
          "metadata": {
            "needs_background": "light"
          },
          "output_type": "display_data"
        }
      ],
      "source": [
        "NUM_EPOCHS = 20 #YOUR CODE HERE#\n",
        "\n",
        "history = model.fit(\n",
        "      train_generator, \n",
        "      epochs = NUM_EPOCHS,\n",
        "      verbose = 1,\n",
        "      validation_data = validation_generator)\n",
        "\n",
        "# summarize history for accuracy\n",
        "import matplotlib.pyplot as plt\n",
        "plt.plot(history.history['accuracy'])\n",
        "plt.plot(history.history['val_accuracy'])\n",
        "plt.title('model accuracy')\n",
        "plt.ylabel('accuracy')\n",
        "plt.xlabel('epoch')\n",
        "plt.legend(['train', 'test'], loc='upper left')\n",
        "plt.xlim([0,NUM_EPOCHS])\n",
        "plt.ylim([0.4,1.0])\n",
        "plt.show()"
      ]
    }
  ],
  "metadata": {
    "accelerator": "GPU",
    "colab": {
      "name": "2-4-11-Question.ipynb",
      "provenance": []
    },
    "kernelspec": {
      "display_name": "Python 3",
      "language": "python",
      "name": "python3"
    },
    "language_info": {
      "codemirror_mode": {
        "name": "ipython",
        "version": 3
      },
      "file_extension": ".py",
      "mimetype": "text/x-python",
      "name": "python",
      "nbconvert_exporter": "python",
      "pygments_lexer": "ipython3",
      "version": "3.9.6"
    },
    "vscode": {
      "interpreter": {
        "hash": "31f2aee4e71d21fbe5cf8b01ff0e069b9275f58929596ceb00d14d90e3e16cd6"
      }
    }
  },
  "nbformat": 4,
  "nbformat_minor": 0
}
