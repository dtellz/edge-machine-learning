{
  "cells": [
    {
      "cell_type": "markdown",
      "metadata": {
        "id": "iiVBUpuHXEtw"
      },
      "source": [
        "# Create a CNN to classify Cifar-10\n",
        "\n",
        "Learn about Cifar-10 here: https://www.cs.toronto.edu/~kriz/cifar.html\n",
        "\n",
        "In class you saw how to build a Convolutional Neural Network that classified Fashion MNIST. Take what you learned to build a CNN that recognizes the 10 classes of CIFAR. It will be a similar network, but there are some key differences you'll need to take into account.\n",
        "\n",
        "First, while MNIST were 28x28 monochome images (1 color channel), CIFAR are 32x32 color images (3 color channels).\n",
        "\n",
        "Second, MNIST images are simple, containing just the object, centered in the image, with no background. CIFAR ones can have the object with a background -- for example airplanes might have a cloudy sky behind them! As such you should expect your accuracy to be a bit lower. \n",
        "\n",
        "We start by setting up the problem for you."
      ]
    },
    {
      "cell_type": "code",
      "execution_count": 1,
      "metadata": {
        "id": "6OQ_tVTaU3oo",
        "outputId": "3b8f1daa-191a-406c-f81e-505111bee963",
        "colab": {
          "base_uri": "https://localhost:8080/"
        }
      },
      "outputs": [
        {
          "output_type": "stream",
          "name": "stdout",
          "text": [
            "Downloading data from https://www.cs.toronto.edu/~kriz/cifar-10-python.tar.gz\n",
            "170498071/170498071 [==============================] - 14s 0us/step\n"
          ]
        }
      ],
      "source": [
        "import tensorflow as tf\n",
        "\n",
        "from tensorflow.keras import datasets, layers, models\n",
        "import matplotlib.pyplot as plt\n",
        "\n",
        "(train_images, train_labels), (test_images, test_labels) = datasets.cifar10.load_data()\n",
        "\n",
        "# Normalize pixel values to be between 0 and 1\n",
        "train_images = train_images / 255.0\n",
        "test_images = test_images / 255.0"
      ]
    },
    {
      "cell_type": "markdown",
      "metadata": {
        "id": "Zg3btB32pPSB"
      },
      "source": [
        "We then definte some of the model for you but leave most of it for you to fill in! \n",
        "\n",
        "*A hint: your model may want to learn some high level features and then classify them.*"
      ]
    },
    {
      "cell_type": "code",
      "execution_count": 10,
      "metadata": {
        "id": "law2hNzdVA16"
      },
      "outputs": [],
      "source": [
        "FIRST_LAYER = layers.Conv2D(32, (3, 3), activation='relu', input_shape=(32, 32, 3))#YOUR CODE HERE#\n",
        "HIDDEN_LAYER_TYPE_1 = layers.MaxPooling2D(2, 2)#YOUR CODE HERE#\n",
        "HIDDEN_LAYER_TYPE_2 = layers.Conv2D(32, (3, 3), activation='relu')#YOUR CODE HERE#\n",
        "HIDDEN_LAYER_TYPE_3 = layers.MaxPooling2D(2, 2)#YOUR CODE HERE#\n",
        "HIDDEN_LAYER_TYPE_4 = layers.Conv2D(32, (3, 3), activation='relu')#YOUR CODE HERE#\n",
        "HIDDEN_LAYER_TYPE_5 = layers.Dense(128, activation='relu')#YOUR CODE HERE#\n",
        "LAST_LAYER = layers.Dense(10, activation='softmax')#YOUR CODE HERE#\n",
        "\n",
        "model = models.Sequential([\n",
        "       FIRST_LAYER,\n",
        "       HIDDEN_LAYER_TYPE_1,\n",
        "       HIDDEN_LAYER_TYPE_2,\n",
        "       HIDDEN_LAYER_TYPE_3,\n",
        "       HIDDEN_LAYER_TYPE_4,\n",
        "       layers.Flatten(),\n",
        "       HIDDEN_LAYER_TYPE_5,\n",
        "       LAST_LAYER,\n",
        "])"
      ]
    },
    {
      "cell_type": "markdown",
      "metadata": {
        "id": "u1_FKcoPpPSC"
      },
      "source": [
        "You then need to define loss function. And you can then train your model. Once training is done you'll see a plot of training and validation accuracy. You'll know you have a reasonable model with a reasonable loss funciton if your final training accuracy ends up in the 70s (or possibly higher).\n",
        "\n",
        "*A hint: your model may want to learn different categories.*"
      ]
    },
    {
      "cell_type": "code",
      "execution_count": 4,
      "metadata": {
        "id": "Dxq2JU7dVIEX",
        "outputId": "b2be36f7-7d61-4f80-ca6f-0c0615e50733",
        "colab": {
          "base_uri": "https://localhost:8080/",
          "height": 1000
        }
      },
      "outputs": [
        {
          "output_type": "stream",
          "name": "stdout",
          "text": [
            "Epoch 1/20\n",
            "1563/1563 [==============================] - 19s 6ms/step - loss: 2.0451 - accuracy: 0.2546 - val_loss: 1.7431 - val_accuracy: 0.3715\n",
            "Epoch 2/20\n",
            "1563/1563 [==============================] - 8s 5ms/step - loss: 1.6408 - accuracy: 0.4055 - val_loss: 1.6495 - val_accuracy: 0.4207\n",
            "Epoch 3/20\n",
            "1563/1563 [==============================] - 7s 5ms/step - loss: 1.4739 - accuracy: 0.4701 - val_loss: 1.4951 - val_accuracy: 0.4663\n",
            "Epoch 4/20\n",
            "1563/1563 [==============================] - 8s 5ms/step - loss: 1.3723 - accuracy: 0.5100 - val_loss: 1.3291 - val_accuracy: 0.5278\n",
            "Epoch 5/20\n",
            "1563/1563 [==============================] - 8s 5ms/step - loss: 1.2876 - accuracy: 0.5432 - val_loss: 1.3072 - val_accuracy: 0.5275\n",
            "Epoch 6/20\n",
            "1563/1563 [==============================] - 8s 5ms/step - loss: 1.2061 - accuracy: 0.5714 - val_loss: 1.2446 - val_accuracy: 0.5563\n",
            "Epoch 7/20\n",
            "1563/1563 [==============================] - 8s 5ms/step - loss: 1.1387 - accuracy: 0.6003 - val_loss: 1.1463 - val_accuracy: 0.5936\n",
            "Epoch 8/20\n",
            "1563/1563 [==============================] - 8s 5ms/step - loss: 1.0775 - accuracy: 0.6222 - val_loss: 1.0933 - val_accuracy: 0.6127\n",
            "Epoch 9/20\n",
            "1563/1563 [==============================] - 7s 5ms/step - loss: 1.0226 - accuracy: 0.6430 - val_loss: 1.1247 - val_accuracy: 0.5986\n",
            "Epoch 10/20\n",
            "1563/1563 [==============================] - 8s 5ms/step - loss: 0.9763 - accuracy: 0.6575 - val_loss: 1.0495 - val_accuracy: 0.6245\n",
            "Epoch 11/20\n",
            "1563/1563 [==============================] - 8s 5ms/step - loss: 0.9327 - accuracy: 0.6768 - val_loss: 1.0630 - val_accuracy: 0.6259\n",
            "Epoch 12/20\n",
            "1563/1563 [==============================] - 7s 5ms/step - loss: 0.8920 - accuracy: 0.6887 - val_loss: 1.0710 - val_accuracy: 0.6315\n",
            "Epoch 13/20\n",
            "1563/1563 [==============================] - 8s 5ms/step - loss: 0.8554 - accuracy: 0.7042 - val_loss: 1.0144 - val_accuracy: 0.6476\n",
            "Epoch 14/20\n",
            "1563/1563 [==============================] - 8s 5ms/step - loss: 0.8200 - accuracy: 0.7148 - val_loss: 1.0110 - val_accuracy: 0.6456\n",
            "Epoch 15/20\n",
            "1563/1563 [==============================] - 7s 5ms/step - loss: 0.7895 - accuracy: 0.7257 - val_loss: 1.0029 - val_accuracy: 0.6628\n",
            "Epoch 16/20\n",
            "1563/1563 [==============================] - 8s 5ms/step - loss: 0.7570 - accuracy: 0.7370 - val_loss: 0.9137 - val_accuracy: 0.6895\n",
            "Epoch 17/20\n",
            "1563/1563 [==============================] - 7s 5ms/step - loss: 0.7242 - accuracy: 0.7483 - val_loss: 0.9279 - val_accuracy: 0.6800\n",
            "Epoch 18/20\n",
            "1563/1563 [==============================] - 8s 5ms/step - loss: 0.6985 - accuracy: 0.7571 - val_loss: 0.8812 - val_accuracy: 0.6985\n",
            "Epoch 19/20\n",
            "1563/1563 [==============================] - 8s 5ms/step - loss: 0.6699 - accuracy: 0.7689 - val_loss: 0.9251 - val_accuracy: 0.6884\n",
            "Epoch 20/20\n",
            "1563/1563 [==============================] - 7s 5ms/step - loss: 0.6440 - accuracy: 0.7770 - val_loss: 0.8978 - val_accuracy: 0.6975\n"
          ]
        },
        {
          "output_type": "display_data",
          "data": {
            "text/plain": [
              "<Figure size 432x288 with 1 Axes>"
            ],
            "image/png": "[encoded data removed]"
          },
          "metadata": {
            "needs_background": "light"
          }
        }
      ],
      "source": [
        "LOSS = 'sparse_categorical_crossentropy'#YOUR CODE HERE#\n",
        "NUM_EPOCHS = 20 #You can change this value if you like to experiment with it to get better accuracy\n",
        "\n",
        "# Compile the model\n",
        "model.compile(optimizer='sgd',\n",
        "              loss=LOSS,\n",
        "              metrics=['accuracy'])\n",
        "\n",
        "# Fit the model\n",
        "history = model.fit(train_images, train_labels, epochs=NUM_EPOCHS, \n",
        "                    validation_data=(test_images, test_labels))\n",
        "\n",
        "# summarize history for accuracy\n",
        "plt.plot(history.history['accuracy'])\n",
        "plt.plot(history.history['val_accuracy'])\n",
        "plt.title('model accuracy')\n",
        "plt.ylabel('accuracy')\n",
        "plt.xlabel('epoch')\n",
        "plt.legend(['train', 'test'], loc='upper left')\n",
        "plt.xlim([0,NUM_EPOCHS])\n",
        "plt.ylim([0.4,1.0])\n",
        "plt.show()"
      ]
    },
    {
      "cell_type": "markdown",
      "metadata": {
        "id": "GgwR2PzApPSC"
      },
      "source": [
        "Finally, pick a better optimizer. And re-train your model. You'll know you have a reasonable model with a reasonable loss funciton and optimizer if your final training accuracy ends up in the 80s (or possibly higher).\n",
        "\n",
        "*A hint: your model may want to learn adaptively.*"
      ]
    },
    {
      "cell_type": "code",
      "execution_count": 11,
      "metadata": {
        "id": "01_2oIOFpPSC",
        "outputId": "f4212693-40a2-4915-eae0-2ef3d878a788",
        "colab": {
          "base_uri": "https://localhost:8080/",
          "height": 1000
        }
      },
      "outputs": [
        {
          "output_type": "stream",
          "name": "stdout",
          "text": [
            "Epoch 1/20\n",
            "1563/1563 [==============================] - 10s 5ms/step - loss: 1.5570 - accuracy: 0.4310 - val_loss: 1.3105 - val_accuracy: 0.5282\n",
            "Epoch 2/20\n",
            "1563/1563 [==============================] - 8s 5ms/step - loss: 1.2370 - accuracy: 0.5590 - val_loss: 1.1871 - val_accuracy: 0.5749\n",
            "Epoch 3/20\n",
            "1563/1563 [==============================] - 9s 6ms/step - loss: 1.0932 - accuracy: 0.6136 - val_loss: 1.0525 - val_accuracy: 0.6309\n",
            "Epoch 4/20\n",
            "1563/1563 [==============================] - 8s 5ms/step - loss: 0.9964 - accuracy: 0.6489 - val_loss: 0.9856 - val_accuracy: 0.6567\n",
            "Epoch 5/20\n",
            "1563/1563 [==============================] - 8s 5ms/step - loss: 0.9151 - accuracy: 0.6750 - val_loss: 0.9333 - val_accuracy: 0.6728\n",
            "Epoch 6/20\n",
            "1563/1563 [==============================] - 9s 5ms/step - loss: 0.8640 - accuracy: 0.6940 - val_loss: 0.9892 - val_accuracy: 0.6489\n",
            "Epoch 7/20\n",
            "1563/1563 [==============================] - 8s 5ms/step - loss: 0.8172 - accuracy: 0.7135 - val_loss: 0.9005 - val_accuracy: 0.6903\n",
            "Epoch 8/20\n",
            "1563/1563 [==============================] - 8s 5ms/step - loss: 0.7775 - accuracy: 0.7250 - val_loss: 0.8874 - val_accuracy: 0.6912\n",
            "Epoch 9/20\n",
            "1563/1563 [==============================] - 8s 5ms/step - loss: 0.7382 - accuracy: 0.7397 - val_loss: 0.8833 - val_accuracy: 0.6981\n",
            "Epoch 10/20\n",
            "1563/1563 [==============================] - 8s 5ms/step - loss: 0.7037 - accuracy: 0.7520 - val_loss: 0.8778 - val_accuracy: 0.6965\n",
            "Epoch 11/20\n",
            "1563/1563 [==============================] - 8s 5ms/step - loss: 0.6709 - accuracy: 0.7630 - val_loss: 0.9103 - val_accuracy: 0.6947\n",
            "Epoch 12/20\n",
            "1563/1563 [==============================] - 9s 6ms/step - loss: 0.6476 - accuracy: 0.7714 - val_loss: 0.9405 - val_accuracy: 0.6941\n",
            "Epoch 13/20\n",
            "1563/1563 [==============================] - 8s 5ms/step - loss: 0.6219 - accuracy: 0.7809 - val_loss: 0.9181 - val_accuracy: 0.6914\n",
            "Epoch 14/20\n",
            "1563/1563 [==============================] - 8s 5ms/step - loss: 0.5985 - accuracy: 0.7889 - val_loss: 0.9779 - val_accuracy: 0.6790\n",
            "Epoch 15/20\n",
            "1563/1563 [==============================] - 9s 6ms/step - loss: 0.5787 - accuracy: 0.7957 - val_loss: 0.9672 - val_accuracy: 0.6916\n",
            "Epoch 16/20\n",
            "1563/1563 [==============================] - 8s 5ms/step - loss: 0.5539 - accuracy: 0.8026 - val_loss: 0.9743 - val_accuracy: 0.6949\n",
            "Epoch 17/20\n",
            "1563/1563 [==============================] - 9s 6ms/step - loss: 0.5309 - accuracy: 0.8119 - val_loss: 0.9662 - val_accuracy: 0.6948\n",
            "Epoch 18/20\n",
            "1563/1563 [==============================] - 9s 5ms/step - loss: 0.5052 - accuracy: 0.8201 - val_loss: 1.0157 - val_accuracy: 0.6893\n",
            "Epoch 19/20\n",
            "1563/1563 [==============================] - 8s 5ms/step - loss: 0.4845 - accuracy: 0.8279 - val_loss: 1.0452 - val_accuracy: 0.6896\n",
            "Epoch 20/20\n",
            "1563/1563 [==============================] - 8s 5ms/step - loss: 0.4655 - accuracy: 0.8341 - val_loss: 1.0363 - val_accuracy: 0.6901\n"
          ]
        },
        {
          "output_type": "display_data",
          "data": {
            "text/plain": [
              "<Figure size 432x288 with 1 Axes>"
            ],
            "image/png": "[encoded data removed]"
          },
          "metadata": {
            "needs_background": "light"
          }
        }
      ],
      "source": [
        "OPTIMIZER = 'adam' #YOUR CODE HERE#\n",
        "\n",
        "# Compile the model\n",
        "model.compile(optimizer=OPTIMIZER,\n",
        "              loss=LOSS,\n",
        "              metrics=['accuracy'])\n",
        "\n",
        "# Fit the model\n",
        "history = model.fit(train_images, train_labels, epochs=NUM_EPOCHS, \n",
        "                    validation_data=(test_images, test_labels))\n",
        "\n",
        "# summarize history for accuracy\n",
        "plt.plot(history.history['accuracy'])\n",
        "plt.plot(history.history['val_accuracy'])\n",
        "plt.title('model accuracy')\n",
        "plt.ylabel('accuracy')\n",
        "plt.xlabel('epoch')\n",
        "plt.legend(['train', 'test'], loc='upper left')\n",
        "plt.xlim([0,NUM_EPOCHS])\n",
        "plt.ylim([0.4,1.0])\n",
        "plt.show()"
      ]
    }
  ],
  "metadata": {
    "accelerator": "GPU",
    "colab": {
      "name": "2-3-9-Question.ipynb",
      "provenance": []
    },
    "kernelspec": {
      "display_name": "Python 3",
      "language": "python",
      "name": "python3"
    },
    "language_info": {
      "codemirror_mode": {
        "name": "ipython",
        "version": 3
      },
      "file_extension": ".py",
      "mimetype": "text/x-python",
      "name": "python",
      "nbconvert_exporter": "python",
      "pygments_lexer": "ipython3",
      "version": "3.6.9"
    }
  },
  "nbformat": 4,
  "nbformat_minor": 0
}